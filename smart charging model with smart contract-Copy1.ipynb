{
 "cells": [
  {
   "cell_type": "markdown",
   "metadata": {},
   "source": [
    "create and instantiate a Web3 connection  "
   ]
  },
  {
   "cell_type": "code",
   "execution_count": 56,
   "metadata": {},
   "outputs": [
    {
     "data": {
      "text/plain": [
       "True"
      ]
     },
     "execution_count": 56,
     "metadata": {},
     "output_type": "execute_result"
    }
   ],
   "source": [
    "import json\n",
    "from web3 import Web3\n",
    "\n",
    "ganache_url = \"http://127.0.0.1:8545\"\n",
    "\n",
    "web3 = Web3(Web3.HTTPProvider(ganache_url))\n",
    "\n",
    "web3.isConnected()"
   ]
  },
  {
   "cell_type": "markdown",
   "metadata": {},
   "source": [
    "## create a instance of smart contract"
   ]
  },
  {
   "cell_type": "code",
   "execution_count": 5,
   "metadata": {},
   "outputs": [],
   "source": [
    "abi ='[{\"constant\":true,\"inputs\":[],\"name\":\"getChargingList\",\"outputs\":[{\"name\":\"\",\"type\":\"address[]\"}],\"payable\":false,\"stateMutability\":\"view\",\"type\":\"function\"},{\"constant\":true,\"inputs\":[{\"name\":\"\",\"type\":\"uint256\"}],\"name\":\"CP_list\",\"outputs\":[{\"name\":\"\",\"type\":\"address\"}],\"payable\":false,\"stateMutability\":\"view\",\"type\":\"function\"},{\"constant\":true,\"inputs\":[{\"name\":\"userId\",\"type\":\"address\"}],\"name\":\"getFlex\",\"outputs\":[{\"name\":\"\",\"type\":\"uint8\"}],\"payable\":false,\"stateMutability\":\"view\",\"type\":\"function\"},{\"constant\":true,\"inputs\":[],\"name\":\"getChargingPointDetails\",\"outputs\":[{\"name\":\"\",\"type\":\"address\"},{\"name\":\"\",\"type\":\"string\"},{\"name\":\"\",\"type\":\"string\"},{\"name\":\"\",\"type\":\"uint8\"},{\"name\":\"\",\"type\":\"uint32\"},{\"name\":\"\",\"type\":\"uint32\"},{\"name\":\"\",\"type\":\"uint32\"},{\"name\":\"\",\"type\":\"uint8\"},{\"name\":\"\",\"type\":\"uint32\"}],\"payable\":false,\"stateMutability\":\"view\",\"type\":\"function\"},{\"constant\":false,\"inputs\":[{\"name\":\"_operator\",\"type\":\"string\"},{\"name\":\"_connectionType\",\"type\":\"string\"},{\"name\":\"_chargingType\",\"type\":\"uint8\"},{\"name\":\"_maxPowerSupply\",\"type\":\"uint32\"},{\"name\":\"_latitude\",\"type\":\"uint32\"},{\"name\":\"_longitude\",\"type\":\"uint32\"},{\"name\":\"_chargingStatus\",\"type\":\"uint8\"},{\"name\":\"_price\",\"type\":\"uint32\"}],\"name\":\"setChargingPoint\",\"outputs\":[],\"payable\":false,\"stateMutability\":\"nonpayable\",\"type\":\"function\"},{\"constant\":true,\"inputs\":[{\"name\":\"_cpaddr\",\"type\":\"address\"}],\"name\":\"getSpecificCPDetails\",\"outputs\":[{\"name\":\"\",\"type\":\"string\"},{\"name\":\"\",\"type\":\"uint8\"},{\"name\":\"\",\"type\":\"uint32\"},{\"name\":\"\",\"type\":\"uint32\"},{\"name\":\"\",\"type\":\"uint32\"},{\"name\":\"\",\"type\":\"uint8\"},{\"name\":\"\",\"type\":\"uint32\"}],\"payable\":false,\"stateMutability\":\"view\",\"type\":\"function\"},{\"constant\":false,\"inputs\":[{\"name\":\"userId\",\"type\":\"address\"},{\"name\":\"flexbility\",\"type\":\"uint8\"}],\"name\":\"chargingUpdate\",\"outputs\":[],\"payable\":false,\"stateMutability\":\"nonpayable\",\"type\":\"function\"},{\"constant\":false,\"inputs\":[{\"name\":\"cpAddress\",\"type\":\"address\"},{\"name\":\"userId\",\"type\":\"address\"}],\"name\":\"chargingFinish\",\"outputs\":[],\"payable\":false,\"stateMutability\":\"nonpayable\",\"type\":\"function\"},{\"constant\":false,\"inputs\":[{\"name\":\"cpAddress\",\"type\":\"address\"},{\"name\":\"_energyDemand\",\"type\":\"uint8\"},{\"name\":\"_chargingTime\",\"type\":\"uint8\"}],\"name\":\"userInput\",\"outputs\":[],\"payable\":true,\"stateMutability\":\"payable\",\"type\":\"function\"},{\"constant\":true,\"inputs\":[],\"name\":\"totalCP\",\"outputs\":[{\"name\":\"\",\"type\":\"uint256\"}],\"payable\":false,\"stateMutability\":\"view\",\"type\":\"function\"},{\"constant\":true,\"inputs\":[],\"name\":\"getPowerLimit\",\"outputs\":[{\"name\":\"\",\"type\":\"uint8\"}],\"payable\":false,\"stateMutability\":\"view\",\"type\":\"function\"},{\"constant\":false,\"inputs\":[{\"name\":\"_powerLimit\",\"type\":\"uint8\"}],\"name\":\"setPowerLimit\",\"outputs\":[],\"payable\":false,\"stateMutability\":\"nonpayable\",\"type\":\"function\"},{\"constant\":true,\"inputs\":[{\"name\":\"cpAddr\",\"type\":\"address\"}],\"name\":\"cpAddrArr\",\"outputs\":[{\"name\":\"\",\"type\":\"bool\"}],\"payable\":false,\"stateMutability\":\"view\",\"type\":\"function\"},{\"inputs\":[],\"payable\":false,\"stateMutability\":\"nonpayable\",\"type\":\"constructor\"},{\"anonymous\":false,\"inputs\":[{\"indexed\":false,\"name\":\"CPaddr\",\"type\":\"address\"},{\"indexed\":false,\"name\":\"operator\",\"type\":\"string\"},{\"indexed\":false,\"name\":\"connectionType\",\"type\":\"string\"},{\"indexed\":false,\"name\":\"chargingType\",\"type\":\"uint8\"},{\"indexed\":false,\"name\":\"maxPowerSupply\",\"type\":\"uint32\"},{\"indexed\":false,\"name\":\"latitude\",\"type\":\"uint32\"},{\"indexed\":false,\"name\":\"longitude\",\"type\":\"uint32\"},{\"indexed\":false,\"name\":\"chargingStatus\",\"type\":\"uint8\"},{\"indexed\":false,\"name\":\"price\",\"type\":\"uint32\"}],\"name\":\"chargingPointRegs\",\"type\":\"event\"}]'\n",
    "address = web3.toChecksumAddress('0x623a708526193bc5c54e9841b5b1fbf6e7a9f65f')\n",
    "contract = web3.eth.contract(address=address, abi=abi)"
   ]
  },
  {
   "cell_type": "code",
   "execution_count": 6,
   "metadata": {},
   "outputs": [],
   "source": [
    "account_0=web3.eth.accounts[0]\n",
    "CP_account_1=web3.eth.accounts[1]\n",
    "CP_account_2=web3.eth.accounts[2]\n",
    "CP_account_3=web3.eth.accounts[3]\n",
    "user_account_4=web3.eth.accounts[4]\n",
    "user_account_5=web3.eth.accounts[5]\n",
    "user_account_6=web3.eth.accounts[6]\n",
    "account_7=web3.eth.accounts[7]\n",
    "account_8=web3.eth.accounts[8]\n",
    "account_9=web3.eth.accounts[9]"
   ]
  },
  {
   "cell_type": "markdown",
   "metadata": {},
   "source": [
    "## set up charging model"
   ]
  },
  {
   "cell_type": "markdown",
   "metadata": {},
   "source": [
    "### get current info"
   ]
  },
  {
   "cell_type": "code",
   "execution_count": 7,
   "metadata": {},
   "outputs": [
    {
     "data": {
      "text/plain": [
       "11"
      ]
     },
     "execution_count": 7,
     "metadata": {},
     "output_type": "execute_result"
    }
   ],
   "source": [
    "contract.functions.getPowerLimit().call()"
   ]
  },
  {
   "cell_type": "code",
   "execution_count": 8,
   "metadata": {},
   "outputs": [
    {
     "data": {
      "text/plain": [
       "['0xbdcA8c90f8472fD9816EdbE70EfD5643bB34aF9E', '', '', 0, 0, 0, 0, 0, 0]"
      ]
     },
     "execution_count": 8,
     "metadata": {},
     "output_type": "execute_result"
    }
   ],
   "source": [
    "contract.functions.getChargingPointDetails().call()"
   ]
  },
  {
   "cell_type": "code",
   "execution_count": null,
   "metadata": {},
   "outputs": [],
   "source": []
  },
  {
   "cell_type": "raw",
   "metadata": {},
   "source": []
  },
  {
   "cell_type": "code",
   "execution_count": 54,
   "metadata": {},
   "outputs": [
    {
     "data": {
      "text/plain": [
       "'0xe9F5a96e6105aA8Ca81b7258349aBF9CB2948737'"
      ]
     },
     "execution_count": 54,
     "metadata": {},
     "output_type": "execute_result"
    }
   ],
   "source": [
    "web3.eth.accounts[6]\n"
   ]
  },
  {
   "cell_type": "code",
   "execution_count": null,
   "metadata": {},
   "outputs": [],
   "source": []
  },
  {
   "cell_type": "markdown",
   "metadata": {},
   "source": [
    "### set up new charging points"
   ]
  },
  {
   "cell_type": "code",
   "execution_count": null,
   "metadata": {},
   "outputs": [],
   "source": [
    "contract.transact({'from': CP_account_2}).setChargingPoint(\"xyz\",\"TYPE2\",0,11,123888,123456,0,50)"
   ]
  },
  {
   "cell_type": "code",
   "execution_count": null,
   "metadata": {},
   "outputs": [],
   "source": [
    "contract.transact({'from': CP_account_1}).setChargingPoint(\"def\",\"TYPE2\",0,11,123444,123456,0,50)"
   ]
  },
  {
   "cell_type": "code",
   "execution_count": null,
   "metadata": {},
   "outputs": [],
   "source": [
    "contract.transact({'from': CP_account_3}).setChargingPoint(\"abc\",\"TYPE2\",0,11,123456,123456,0,50)"
   ]
  },
  {
   "cell_type": "code",
   "execution_count": null,
   "metadata": {},
   "outputs": [],
   "source": [
    "contract.functions.getSpecificCPDetails(CP_account_1).call()"
   ]
  },
  {
   "cell_type": "code",
   "execution_count": null,
   "metadata": {},
   "outputs": [],
   "source": [
    "contract.functions.getChargingList().call()"
   ]
  },
  {
   "cell_type": "markdown",
   "metadata": {},
   "source": [
    "### set new charging request"
   ]
  },
  {
   "cell_type": "code",
   "execution_count": 9,
   "metadata": {},
   "outputs": [],
   "source": [
    "import random\n",
    "import numpy as np\n",
    "from copy import deepcopy\n",
    "charging_price = 0.5 # in EURO/ kWh\n",
    "flexibility_reward_price = 0.1 # in EURO/ kWh"
   ]
  },
  {
   "cell_type": "code",
   "execution_count": 48,
   "metadata": {},
   "outputs": [],
   "source": [
    "num_acc = 0\n",
    "num_rej = 0            \n",
    "simutaneity = 0\n",
    "flexibility_record =[]"
   ]
  },
  {
   "cell_type": "code",
   "execution_count": 11,
   "metadata": {},
   "outputs": [],
   "source": [
    "charging_list = []"
   ]
  },
  {
   "cell_type": "code",
   "execution_count": 12,
   "metadata": {},
   "outputs": [],
   "source": [
    "## user input\n",
    "charging_request = [user_account_4, CP_account_1,20,120]\n",
    "CP_info = contract.functions.getSpecificCPDetails(CP_account_1).call()\n",
    "\n",
    "if (CP_info[5]==1):\n",
    "    print('Charging point not available, request rejected')\n",
    "else:\n",
    "    Norminal_Power_CP = CP_info[2]\n",
    "    if charging_request[2]/ (charging_request[3]/60) <=  Norminal_Power_CP:\n",
    "        charging_time_n = int(charging_request[2]/Norminal_Power_CP*60)\n",
    "        flexibility = charging_request[3]-charging_time_n\n",
    "        if (flexibility >= 15) :\n",
    "            flexibility_next = Norminal_Power_CP\n",
    "        else:\n",
    "            flexibility_next = int(flexibility * Norminal_Power_CP/15)\n",
    "        charging_request.append([flexibility,flexibility_next])\n",
    "\n",
    "charging_event_1 = {\"userId\":charging_request[0],\"cpId\": charging_request[1],\"E\":charging_request[2],\"T\":charging_request[3], \"F_t\": charging_request[4][0],\"F_p\":charging_request[4][1],\"flex_rec\":0,\"Y/N\": 1, \"End\":0}"
   ]
  },
  {
   "cell_type": "code",
   "execution_count": 13,
   "metadata": {},
   "outputs": [],
   "source": [
    "charging_list.append(charging_event_1)"
   ]
  },
  {
   "cell_type": "code",
   "execution_count": 14,
   "metadata": {},
   "outputs": [
    {
     "name": "stdout",
     "output_type": "stream",
     "text": [
      "[{'userId': '0xea08ff9e76fbC45D15A8223Ef8C23c1783D98041', 'cpId': '0x05d48aE2bC929E3d3826B1e758116f2b09190F9D', 'E': 20, 'T': 120, 'F_t': 11, 'F_p': 8, 'flex_rec': 0, 'Y/N': 1, 'End': 0}]\n"
     ]
    }
   ],
   "source": [
    "print(charging_list)"
   ]
  },
  {
   "cell_type": "code",
   "execution_count": 15,
   "metadata": {},
   "outputs": [
    {
     "name": "stdout",
     "output_type": "stream",
     "text": [
      "{'userId': '0xea08ff9e76fbC45D15A8223Ef8C23c1783D98041', 'cpId': '0x05d48aE2bC929E3d3826B1e758116f2b09190F9D', 'E': 20, 'T': 120, 'F_t': 11, 'F_p': 8, 'flex_rec': 0, 'Y/N': 1, 'End': 0}\n"
     ]
    }
   ],
   "source": [
    "print(charging_event_1)"
   ]
  },
  {
   "cell_type": "code",
   "execution_count": 49,
   "metadata": {},
   "outputs": [
    {
     "name": "stdout",
     "output_type": "stream",
     "text": [
      "Charging finished\n"
     ]
    }
   ],
   "source": [
    "## loop every 15 mins\n",
    "\n",
    "item = 0\n",
    "while (item <len(charging_list)):\n",
    "    if charging_list[item][\"T\"] == 0 or charging_list[item][\"E\"] <= 0:\n",
    "        flexibility_record.append([charging_list[item][\"userId\"],charging_list[item][\"flex_rec\"]]) #record all flexibility contribution for finished charging events\n",
    "        print(\"Charging finished\")\n",
    "        ## call charing finish function on BC\n",
    "        contract.transact({'from': charging_list[item][\"cpId\"]}).chargingFinish(charging_list[item][\"cpId\"],charging_list[item][\"userId\"])\n",
    "        charging_list.pop(item)\n",
    "        item-=1\n",
    "        \n",
    "    item +=1\n"
   ]
  },
  {
   "cell_type": "code",
   "execution_count": 50,
   "metadata": {},
   "outputs": [],
   "source": [
    "no_flex_offer = 0\n",
    "power_supply = contract.functions.getPowerLimit().call() # initial value for every loop\n",
    "flex_supply = 0 # aggregate flex_offer\n",
    "flex_demand = 0 # total overload\n",
    "flex_offer = 0\n",
    "flex_group1 = 0"
   ]
  },
  {
   "cell_type": "code",
   "execution_count": 51,
   "metadata": {},
   "outputs": [],
   "source": [
    "for i in range(len(charging_list)):\n",
    "    charging_list[i][\"F_t\"] = charging_list[i][\"T\"] - (charging_list[i][\"E\"]/Norminal_Power_CP*60)\n",
    "    if charging_list[i][\"F_t\"]>= 15:\n",
    "        charging_list[i][\"F_p\"] = Norminal_Power_CP\n",
    "    else:\n",
    "        charging_list[i][\"F_p\"] = int(charging_list[i][\"F_t\"]*Norminal_Power_CP/15)\n",
    "\n",
    "for i in range(len(charging_list)):\n",
    "\n",
    "    if charging_list[i][\"T\"] ==15:     #although for such case thses is no flecxibility, but we already deduct the needed power from the total supplyb\n",
    "        required_charging_power = 4*charging_list[i][\"E\"]            \n",
    "        charging_list[i][\"Y/N\"] = 10  # 10 means last step case\n",
    "        power_supply -= required_charging_power\n",
    "\n",
    "    elif charging_list[i][\"F_t\"]<=1:\n",
    "        charging_list[i][\"Y/N\"] = 0  # 0 means no flexibility\n",
    "        no_flex_offer +=1\n",
    "    elif charging_list[i][\"F_p\"] == Norminal_Power_CP:\n",
    "        flex_group1 +=1\n",
    "        flex_offer += 1\n",
    "    else:\n",
    "        flex_offer += 1\n",
    "\n",
    "flex_demand = (no_flex_offer + flex_offer)*Norminal_Power_CP - power_supply\n",
    "group1_sum = flex_group1 * Norminal_Power_CP\n",
    "\n",
    "for i in range(len(charging_list)):\n",
    "    if charging_list[i][\"Y/N\"] ==1:\n",
    "        flex_supply += charging_list[i][\"F_p\"]\n",
    "    else:\n",
    "        continue;            \n",
    "         ##all charging events are processed & get updated     \n",
    "if flex_demand < 0:\n",
    "\n",
    "    for i in range(len(charging_list)):\n",
    "        charging_list[i][\"T\"] -= 15\n",
    "        if charging_list[i][\"T\"] ==0:\n",
    "            charging_list[i][\"E\"] =0\n",
    "        else:\n",
    "            charging_list[i][\"E\"] -= (0.25)*Norminal_Power_CP  \n",
    "\n",
    "elif flex_demand <= group1_sum:\n",
    "#            print (\"charging accepted! \")\n",
    "    ##all charging event get updated\n",
    "    for i in range (len(charging_list)):\n",
    "        charging_list[i][\"T\"] -= 15\n",
    "        if charging_list[i][\"T\"] == 0:   #last step charging\n",
    "            charging_list[i][\"E\"] =0\n",
    "        elif charging_list[i][\"F_p\"] != Norminal_Power_CP:    #group2 & no flexibility charging\n",
    "            charging_list[i][\"E\"] -= (0.25)*Norminal_Power_CP\n",
    "\n",
    "        else:                            #group1 charging\n",
    "            actual_power = int((1 - flex_demand / group1_sum) * Norminal_Power_CP)\n",
    "            charging_list[i][\"E\"] -= (1 - flex_demand / group1_sum) * Norminal_Power_CP *(0.25) \n",
    "            charging_list[i][\"flex_rec\"] += flex_demand / group1_sum * Norminal_Power_CP *(0.25) # flex allocation\n",
    "            ## blockchain charging update below\n",
    "            contract.transact({'from': charging_list[i][\"cpId\"]}).chargingUpdate(charging_list[i][\"userId\"],int(charging_list[i][\"flex_rec\"]))\n",
    "\n",
    "else:  # flexibility_demand <= flexibility_supply:   \n",
    "     for i in range (len(charging_list)):\n",
    "        charging_list[i][\"T\"] -= 15\n",
    "        if charging_list[i][\"T\"] == 0:   #last step charging\n",
    "            charging_list[i][\"E\"] = 0\n",
    "        elif charging_list[i][\"F_p\"] == Norminal_Power_CP:   # group1 & \n",
    "            charging_list[i][\"flex_rec\"] += Norminal_Power_CP * 0.25   # flex allocation\n",
    "            ## blockchain charging update below\n",
    "            contract.transact({'from': charging_list[i][\"cpId\"]}).chargingUpdate(charging_list[i][\"userId\"],int(charging_list[i][\"flex_rec\"]))\n",
    "            continue  #no energy reduction\n",
    "            \n",
    "        elif charging_list[i][\"Y/N\"] ==0:     #charging events with no flexibility\n",
    "            charging_list[i][\"E\"] -= (0.25)*Norminal_Power_CP\n",
    "        else:                                #group2 charging\n",
    "    \n",
    "            charging_list[i][\"E\"] -= (0.25)*(Norminal_Power_CP - ((flex_demand - group1_sum)/(flex_supply - group1_sum) * charging_list[i][\"F_p\"]))        \n",
    "            charging_list[i][\"flex_rec\"] +=((flex_demand - group1_sum)/(flex_supply - group1_sum) * charging_list[i][\"F_p\"])* 0.25\n",
    "            ## blockchain charging update below\n",
    "            contract.transact({'from': charging_list[i][\"cpId\"]}).chargingUpdate(charging_list[i][\"userId\"],int(charging_list[i][\"flex_rec\"]))\n",
    "\n"
   ]
  },
  {
   "cell_type": "code",
   "execution_count": 52,
   "metadata": {},
   "outputs": [
    {
     "name": "stdout",
     "output_type": "stream",
     "text": [
      "[{'userId': '0xe9F5a96e6105aA8Ca81b7258349aBF9CB2948737', 'cpId': '0x7eC787Fc6940aE5B48660a7aEd7E0dCc05775E80', 'E': 17.25, 'T': 95, 'F_t': 0.9090909090909065, 'F_p': 0, 'flex_rec': 66, 'Y/N': 0, 'End': 0}]\n"
     ]
    }
   ],
   "source": [
    "print(charging_list)"
   ]
  },
  {
   "cell_type": "code",
   "execution_count": 28,
   "metadata": {},
   "outputs": [],
   "source": [
    "## new charging request\n",
    "## user input\n",
    "charging_request = [user_account_6, CP_account_3,20,200]\n",
    "CP_info = contract.functions.getSpecificCPDetails(CP_account_3).call()\n",
    "if (CP_info[5]==1):\n",
    "    print('Charging point not available, request rejected')\n",
    "else:\n",
    "    Norminal_Power_CP = CP_info[2]\n",
    "    if charging_request[2]/ (charging_request[3]/60) <=  Norminal_Power_CP:\n",
    "        charging_time_n = int(charging_request[2]/Norminal_Power_CP*60)\n",
    "        flexibility = charging_request[3]-charging_time_n\n",
    "        if (flexibility >= 15) :\n",
    "            flexibility_next = Norminal_Power_CP\n",
    "        else:\n",
    "            flexibility_next = int(flexibility * Norminal_Power_CP/15)\n",
    "        charging_request.append([flexibility,flexibility_next])\n",
    "        \n",
    "## remember to update the event number\n",
    "charging_event_2 = {\"userId\":charging_request[0],\"cpId\": charging_request[1],\"E\":charging_request[2],\"T\":charging_request[3], \"F_t\": charging_request[4][0],\"F_p\":charging_request[4][1],\"flex_rec\":0,\"Y/N\": 1, \"End\":0}\n",
    "new_charging_event = {\"userId\":charging_request[0],\"cpId\": charging_request[1],\"E\":charging_request[2],\"T\":charging_request[3], \"F_t\": charging_request[4][0],\"F_p\":charging_request[4][1],\"flex_rec\":0,\"Y/N\": 1, \"End\":0}"
   ]
  },
  {
   "cell_type": "code",
   "execution_count": 29,
   "metadata": {},
   "outputs": [
    {
     "name": "stdout",
     "output_type": "stream",
     "text": [
      "New charging event arrives\n",
      "the simulation 1 loop\n",
      "kk\n",
      "the simulation 2 loop\n",
      "kk\n",
      "the simulation 3 loop\n",
      "kk\n",
      "the simulation 4 loop\n",
      "kk\n",
      "the simulation 5 loop\n",
      "kk\n",
      "the simulation 6 loop\n",
      "kk\n",
      "the simulation 7 loop\n",
      "simulation: Charging finished\n",
      "kk\n",
      "the simulation 8 loop\n",
      "kk\n",
      "the simulation 9 loop\n",
      "kk\n",
      "the simulation 10 loop\n",
      "kk\n",
      "the simulation 11 loop\n",
      "kk\n",
      "the simulation 12 loop\n",
      "kk\n",
      "the simulation 13 loop\n",
      "kk\n",
      "the simulation 14 loop\n",
      "simulation: Charging finished\n",
      "kk\n",
      "simulation: charging accepted! \n"
     ]
    }
   ],
   "source": [
    "\n",
    "charging_Pool= deepcopy(charging_list) \n",
    "charging_Pool.append(charging_event_2)\n",
    "print (\"New charging event arrives\")\n",
    "t = 0\n",
    "while True:\n",
    "    #step 2: pick out all charging events in the last time step, and make corresponding modification\n",
    "    count_last_step = 0\n",
    "\n",
    "    no_flexibility = 0\n",
    "    flexibility_charging = 0\n",
    "    num_group1 = 0\n",
    "    flexibility_demand = 0\n",
    "    flexibility_supply = 0\n",
    "    t = t+ 1\n",
    "    considered_charging = len(charging_Pool)\n",
    "    print(\"the simulation %d loop\" %t)\n",
    "    i = 0\n",
    "\n",
    "    while (i<len(charging_Pool)):\n",
    "        if charging_Pool[i][\"T\"] == 0 or charging_Pool[i][\"E\"] <= 0:\n",
    "            charging_Pool[i][\"End\"] =1\n",
    "            charging_Pool.pop(i)\n",
    "            print(\"simulation: Charging finished\")\n",
    "            i-=1\n",
    "        i+=1\n",
    "\n",
    "    power_supply_s =  contract.functions.getPowerLimit().call()        \n",
    "    # update all flexibility offer of charging pool\n",
    "\n",
    "    print(\"kk\")\n",
    "\n",
    "    for i in range(len(charging_Pool)):\n",
    "        charging_Pool[i][\"F_t\"] = charging_Pool[i][\"T\"] - (charging_Pool[i][\"E\"]/Norminal_Power_CP*60)\n",
    "\n",
    "        if charging_Pool[i][\"F_t\"]>= 15:\n",
    "            charging_Pool[i][\"F_p\"] = Norminal_Power_CP\n",
    "        else:\n",
    "            charging_Pool[i][\"F_p\"] = charging_Pool[i][\"F_t\"]*Norminal_Power_CP/15\n",
    "\n",
    "    for i in range(len(charging_Pool)):\n",
    "        if charging_Pool[i][\"T\"] ==15:\n",
    "            required_charging_power = 4*charging_Pool[i][\"E\"]\n",
    "\n",
    "            charging_Pool[i][\"Y/N\"] = 10\n",
    "            power_supply_s -= required_charging_power\n",
    "            count_last_step +=1\n",
    "        elif charging_Pool[i][\"F_t\"]<=1:\n",
    "            charging_Pool[i][\"Y/N\"] = 0\n",
    "            no_flexibility +=1\n",
    "        elif charging_Pool[i][\"F_p\"] == Norminal_Power_CP:\n",
    "            num_group1 +=1\n",
    "            flexibility_charging += 1\n",
    "        else:\n",
    "    #                active_charging_events.append(charging_Pool[i])\n",
    "            flexibility_charging += 1\n",
    "\n",
    "    # step 3: calculate flexibility demand, if less than 0, accept the new charging request; if larger than 0, follow step 4 and onwards.\n",
    "    flexibility_demand = (no_flexibility + flexibility_charging)*Norminal_Power_CP - power_supply_s\n",
    "    first_sum = num_group1 * Norminal_Power_CP\n",
    "\n",
    "    for i in range(len(charging_Pool)):\n",
    "        if charging_Pool[i][\"Y/N\"] ==1:\n",
    "            flexibility_supply += charging_Pool[i][\"F_p\"]\n",
    "        else:\n",
    "            continue;\n",
    "\n",
    "    if flexibility_demand < 0: \n",
    "        charging_list.append(new_charging_event) \n",
    "        num_acc +=1\n",
    "        print (\"simulation: charging accepted! \")\n",
    "        break\n",
    "\n",
    "    elif flexibility_demand <= first_sum:\n",
    "        for i in range (len(charging_Pool)):\n",
    "            charging_Pool[i][\"T\"] -= 15\n",
    "            if charging_Pool[i][\"T\"] == 0:   #last step charging\n",
    "                continue\n",
    "            elif charging_Pool[i][\"F_p\"] != Norminal_Power_CP:    #group2 & no flexibility charging\n",
    "                charging_Pool[i][\"E\"] -= (0.25)*Norminal_Power_CP\n",
    "            else:                            #group1 charging\n",
    "                charging_Pool[i][\"E\"] -= (1 - flexibility_demand / first_sum) * Norminal_Power_CP *(0.25)\n",
    "\n",
    "    elif flexibility_demand <= flexibility_supply:   \n",
    "        for i in range (len(charging_Pool)):\n",
    "            charging_Pool[i][\"T\"] -= 15\n",
    "            if charging_Pool[i][\"F_p\"] == Norminal_Power_CP or charging_Pool[i][\"T\"] == 0:  # group1 & last step charging\n",
    "                continue  #no energy reduction\n",
    "            elif charging_Pool[i][\"Y/N\"] ==0:     #charging events with no flexibility\n",
    "                charging_Pool[i][\"E\"] -= (0.25)*Norminal_Power_CP\n",
    "            else:                                #group2 charging\n",
    "                charging_Pool[i][\"E\"] -= (0.25)*(Norminal_Power_CP - ((flexibility_demand - first_sum)/(flexibility_supply - first_sum) * charging_Pool[i][\"F_p\"]))\n",
    "    else:\n",
    "        print(\"simulation: charging rejected\")\n",
    "        charging_Pool.pop()\n",
    "        num_rej +=1\n",
    "        break    "
   ]
  },
  {
   "cell_type": "code",
   "execution_count": 30,
   "metadata": {},
   "outputs": [
    {
     "name": "stdout",
     "output_type": "stream",
     "text": [
      "[{'userId': '0xea08ff9e76fbC45D15A8223Ef8C23c1783D98041', 'cpId': '0x05d48aE2bC929E3d3826B1e758116f2b09190F9D', 'E': 14.5, 'T': 90, 'F_t': 10.909090909090907, 'F_p': 7, 'flex_rec': 0, 'Y/N': 1, 'End': 0}, {'userId': '0xe9F5a96e6105aA8Ca81b7258349aBF9CB2948737', 'cpId': '0x7eC787Fc6940aE5B48660a7aEd7E0dCc05775E80', 'E': 20, 'T': 200, 'F_t': 91, 'F_p': 11, 'flex_rec': 0, 'Y/N': 1, 'End': 0}]\n"
     ]
    }
   ],
   "source": [
    "print(charging_list)"
   ]
  },
  {
   "cell_type": "code",
   "execution_count": 31,
   "metadata": {},
   "outputs": [
    {
     "name": "stdout",
     "output_type": "stream",
     "text": [
      "{'userId': '0xe9F5a96e6105aA8Ca81b7258349aBF9CB2948737', 'cpId': '0x7eC787Fc6940aE5B48660a7aEd7E0dCc05775E80', 'E': -1.25, 'T': 5, 'F_t': 11.818181818181818, 'F_p': 8.666666666666666, 'flex_rec': 0, 'Y/N': 1, 'End': 1}\n"
     ]
    }
   ],
   "source": [
    "print(charging_event_2)"
   ]
  },
  {
   "cell_type": "code",
   "execution_count": null,
   "metadata": {},
   "outputs": [],
   "source": []
  }
 ],
 "metadata": {
  "kernelspec": {
   "display_name": "Python 3",
   "language": "python",
   "name": "python3"
  },
  "language_info": {
   "codemirror_mode": {
    "name": "ipython",
    "version": 3
   },
   "file_extension": ".py",
   "mimetype": "text/x-python",
   "name": "python",
   "nbconvert_exporter": "python",
   "pygments_lexer": "ipython3",
   "version": "3.7.3"
  }
 },
 "nbformat": 4,
 "nbformat_minor": 2
}
